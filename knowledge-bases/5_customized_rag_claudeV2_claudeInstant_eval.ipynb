{
 "cells": [
  {
   "cell_type": "markdown",
   "metadata": {},
   "source": [
    "## Evaluating Q&A applications using Amazon Bedrock Knowledge Base - Retrieve API, Langchain, and LLaMa Index for Prompt Completion Evaluations - LLaMa-2-70b for role play + Titan for text embeddings - Retrieve Vs. RetreiveAndGenerate API eval"
   ]
  },
  {
   "cell_type": "code",
   "execution_count": 5,
   "metadata": {},
   "outputs": [
    {
     "name": "stdout",
     "output_type": "stream",
     "text": [
      "\u001b[33mWARNING: Ignoring invalid distribution -umpy (/opt/conda/lib/python3.10/site-packages)\u001b[0m\u001b[33m\n",
      "\u001b[0mRequirement already satisfied: pip in /opt/conda/lib/python3.10/site-packages (23.3.1)\n",
      "\u001b[33mWARNING: Ignoring invalid distribution -umpy (/opt/conda/lib/python3.10/site-packages)\u001b[0m\u001b[33m\n",
      "\u001b[0m\u001b[33mWARNING: Running pip as the 'root' user can result in broken permissions and conflicting behaviour with the system package manager. It is recommended to use a virtual environment instead: https://pip.pypa.io/warnings/venv\u001b[0m\u001b[33m\n",
      "\u001b[0mNote: you may need to restart the kernel to use updated packages.\n",
      "\u001b[33mWARNING: Ignoring invalid distribution -umpy (/opt/conda/lib/python3.10/site-packages)\u001b[0m\u001b[33m\n",
      "\u001b[0mCollecting boto3\n",
      "  Using cached boto3-1.33.5-py3-none-any.whl.metadata (6.7 kB)\n",
      "Collecting botocore<1.34.0,>=1.33.5 (from boto3)\n",
      "  Using cached botocore-1.33.5-py3-none-any.whl.metadata (6.1 kB)\n",
      "Collecting jmespath<2.0.0,>=0.7.1 (from boto3)\n",
      "  Using cached jmespath-1.0.1-py3-none-any.whl (20 kB)\n",
      "Collecting s3transfer<0.9.0,>=0.8.2 (from boto3)\n",
      "  Using cached s3transfer-0.8.2-py3-none-any.whl.metadata (1.8 kB)\n",
      "Collecting python-dateutil<3.0.0,>=2.1 (from botocore<1.34.0,>=1.33.5->boto3)\n",
      "  Using cached python_dateutil-2.8.2-py2.py3-none-any.whl (247 kB)\n",
      "Collecting urllib3<2.1,>=1.25.4 (from botocore<1.34.0,>=1.33.5->boto3)\n",
      "  Using cached urllib3-2.0.7-py3-none-any.whl.metadata (6.6 kB)\n",
      "Collecting six>=1.5 (from python-dateutil<3.0.0,>=2.1->botocore<1.34.0,>=1.33.5->boto3)\n",
      "  Using cached six-1.16.0-py2.py3-none-any.whl (11 kB)\n",
      "Using cached boto3-1.33.5-py3-none-any.whl (139 kB)\n",
      "Using cached botocore-1.33.5-py3-none-any.whl (11.8 MB)\n",
      "Using cached s3transfer-0.8.2-py3-none-any.whl (82 kB)\n",
      "Using cached urllib3-2.0.7-py3-none-any.whl (124 kB)\n",
      "\u001b[33mWARNING: Ignoring invalid distribution -umpy (/opt/conda/lib/python3.10/site-packages)\u001b[0m\u001b[33m\n",
      "\u001b[0mInstalling collected packages: urllib3, six, jmespath, python-dateutil, botocore, s3transfer, boto3\n",
      "  Attempting uninstall: urllib3\n",
      "    Found existing installation: urllib3 2.1.0\n",
      "    Uninstalling urllib3-2.1.0:\n",
      "      Successfully uninstalled urllib3-2.1.0\n",
      "  Attempting uninstall: six\n",
      "    Found existing installation: six 1.16.0\n",
      "    Uninstalling six-1.16.0:\n",
      "      Successfully uninstalled six-1.16.0\n",
      "  Attempting uninstall: jmespath\n",
      "    Found existing installation: jmespath 0.7.1\n",
      "    Uninstalling jmespath-0.7.1:\n",
      "      Successfully uninstalled jmespath-0.7.1\n",
      "  Attempting uninstall: python-dateutil\n",
      "    Found existing installation: python-dateutil 2.8.2\n",
      "    Uninstalling python-dateutil-2.8.2:\n",
      "      Successfully uninstalled python-dateutil-2.8.2\n",
      "  Attempting uninstall: botocore\n",
      "    Found existing installation: botocore 1.33.5\n",
      "    Uninstalling botocore-1.33.5:\n",
      "      Successfully uninstalled botocore-1.33.5\n",
      "  Attempting uninstall: s3transfer\n",
      "    Found existing installation: s3transfer 0.8.2\n",
      "    Uninstalling s3transfer-0.8.2:\n",
      "      Successfully uninstalled s3transfer-0.8.2\n",
      "  Attempting uninstall: boto3\n",
      "    Found existing installation: boto3 1.33.5\n",
      "    Uninstalling boto3-1.33.5:\n",
      "      Successfully uninstalled boto3-1.33.5\n",
      "\u001b[31mERROR: pip's dependency resolver does not currently take into account all the packages that are installed. This behaviour is the source of the following dependency conflicts.\n",
      "spyder 5.3.3 requires pyqt5<5.16, which is not installed.\n",
      "spyder 5.3.3 requires pyqtwebengine<5.16, which is not installed.\n",
      "awscli 1.29.63 requires botocore==1.31.63, but you have botocore 1.33.5 which is incompatible.\n",
      "awscli 1.29.63 requires s3transfer<0.8.0,>=0.7.0, but you have s3transfer 0.8.2 which is incompatible.\n",
      "distributed 2022.7.0 requires tornado<6.2,>=6.0.3, but you have tornado 6.3.3 which is incompatible.\n",
      "jupyterlab 3.4.4 requires jupyter-server~=1.16, but you have jupyter-server 2.7.3 which is incompatible.\n",
      "jupyterlab-server 2.10.3 requires jupyter-server~=1.4, but you have jupyter-server 2.7.3 which is incompatible.\n",
      "llama-index 0.9.3.post1 requires dataclasses-json<0.6.0,>=0.5.7, but you have dataclasses-json 0.6.3 which is incompatible.\n",
      "llama-index 0.9.3.post1 requires urllib3<2, but you have urllib3 2.0.7 which is incompatible.\n",
      "notebook 6.5.6 requires jupyter-client<8,>=5.3.4, but you have jupyter-client 8.4.0 which is incompatible.\n",
      "notebook 6.5.6 requires pyzmq<25,>=17, but you have pyzmq 25.1.1 which is incompatible.\n",
      "panel 0.13.1 requires bokeh<2.5.0,>=2.4.0, but you have bokeh 3.3.0 which is incompatible.\n",
      "sagemaker-datawrangler 0.4.3 requires sagemaker-data-insights==0.4.0, but you have sagemaker-data-insights 0.3.3 which is incompatible.\n",
      "sparkmagic 0.20.4 requires nest-asyncio==1.5.5, but you have nest-asyncio 1.5.8 which is incompatible.\n",
      "spyder 5.3.3 requires ipython<8.0.0,>=7.31.1, but you have ipython 8.16.1 which is incompatible.\n",
      "spyder 5.3.3 requires pylint<3.0,>=2.5.0, but you have pylint 3.0.1 which is incompatible.\n",
      "spyder-kernels 2.3.3 requires ipython<8,>=7.31.1; python_version >= \"3\", but you have ipython 8.16.1 which is incompatible.\n",
      "spyder-kernels 2.3.3 requires jupyter-client<8,>=7.3.4; python_version >= \"3\", but you have jupyter-client 8.4.0 which is incompatible.\u001b[0m\u001b[31m\n",
      "\u001b[0mSuccessfully installed boto3-1.33.5 botocore-1.33.5 jmespath-1.0.1 python-dateutil-2.8.2 s3transfer-0.8.2 six-1.16.0 urllib3-2.0.7\n",
      "\u001b[33mWARNING: Running pip as the 'root' user can result in broken permissions and conflicting behaviour with the system package manager. It is recommended to use a virtual environment instead: https://pip.pypa.io/warnings/venv\u001b[0m\u001b[33m\n",
      "\u001b[0mNote: you may need to restart the kernel to use updated packages.\n",
      "\u001b[33mWARNING: Ignoring invalid distribution -umpy (/opt/conda/lib/python3.10/site-packages)\u001b[0m\u001b[33m\n",
      "\u001b[0mCollecting botocore\n",
      "  Using cached botocore-1.33.5-py3-none-any.whl.metadata (6.1 kB)\n",
      "Collecting jmespath<2.0.0,>=0.7.1 (from botocore)\n",
      "  Using cached jmespath-1.0.1-py3-none-any.whl (20 kB)\n",
      "Collecting python-dateutil<3.0.0,>=2.1 (from botocore)\n",
      "  Using cached python_dateutil-2.8.2-py2.py3-none-any.whl (247 kB)\n",
      "Collecting urllib3<2.1,>=1.25.4 (from botocore)\n",
      "  Using cached urllib3-2.0.7-py3-none-any.whl.metadata (6.6 kB)\n",
      "Collecting six>=1.5 (from python-dateutil<3.0.0,>=2.1->botocore)\n",
      "  Using cached six-1.16.0-py2.py3-none-any.whl (11 kB)\n",
      "Using cached botocore-1.33.5-py3-none-any.whl (11.8 MB)\n",
      "Using cached urllib3-2.0.7-py3-none-any.whl (124 kB)\n",
      "\u001b[33mWARNING: Ignoring invalid distribution -umpy (/opt/conda/lib/python3.10/site-packages)\u001b[0m\u001b[33m\n",
      "\u001b[0mInstalling collected packages: urllib3, six, jmespath, python-dateutil, botocore\n",
      "  Attempting uninstall: urllib3\n",
      "    Found existing installation: urllib3 2.0.7\n",
      "    Uninstalling urllib3-2.0.7:\n",
      "      Successfully uninstalled urllib3-2.0.7\n",
      "  Attempting uninstall: six\n",
      "    Found existing installation: six 1.16.0\n",
      "    Uninstalling six-1.16.0:\n",
      "      Successfully uninstalled six-1.16.0\n",
      "  Attempting uninstall: jmespath\n",
      "    Found existing installation: jmespath 1.0.1\n",
      "    Uninstalling jmespath-1.0.1:\n",
      "      Successfully uninstalled jmespath-1.0.1\n",
      "  Attempting uninstall: python-dateutil\n",
      "    Found existing installation: python-dateutil 2.8.2\n",
      "    Uninstalling python-dateutil-2.8.2:\n",
      "      Successfully uninstalled python-dateutil-2.8.2\n",
      "  Attempting uninstall: botocore\n",
      "    Found existing installation: botocore 1.33.5\n",
      "    Uninstalling botocore-1.33.5:\n",
      "      Successfully uninstalled botocore-1.33.5\n",
      "\u001b[31mERROR: pip's dependency resolver does not currently take into account all the packages that are installed. This behaviour is the source of the following dependency conflicts.\n",
      "spyder 5.3.3 requires pyqt5<5.16, which is not installed.\n",
      "spyder 5.3.3 requires pyqtwebengine<5.16, which is not installed.\n",
      "awscli 1.29.63 requires botocore==1.31.63, but you have botocore 1.33.5 which is incompatible.\n",
      "awscli 1.29.63 requires s3transfer<0.8.0,>=0.7.0, but you have s3transfer 0.8.2 which is incompatible.\n",
      "distributed 2022.7.0 requires tornado<6.2,>=6.0.3, but you have tornado 6.3.3 which is incompatible.\n",
      "jupyterlab 3.4.4 requires jupyter-server~=1.16, but you have jupyter-server 2.7.3 which is incompatible.\n",
      "jupyterlab-server 2.10.3 requires jupyter-server~=1.4, but you have jupyter-server 2.7.3 which is incompatible.\n",
      "llama-index 0.9.3.post1 requires dataclasses-json<0.6.0,>=0.5.7, but you have dataclasses-json 0.6.3 which is incompatible.\n",
      "llama-index 0.9.3.post1 requires urllib3<2, but you have urllib3 2.0.7 which is incompatible.\n",
      "notebook 6.5.6 requires jupyter-client<8,>=5.3.4, but you have jupyter-client 8.4.0 which is incompatible.\n",
      "notebook 6.5.6 requires pyzmq<25,>=17, but you have pyzmq 25.1.1 which is incompatible.\n",
      "panel 0.13.1 requires bokeh<2.5.0,>=2.4.0, but you have bokeh 3.3.0 which is incompatible.\n",
      "sagemaker-datawrangler 0.4.3 requires sagemaker-data-insights==0.4.0, but you have sagemaker-data-insights 0.3.3 which is incompatible.\n",
      "sparkmagic 0.20.4 requires nest-asyncio==1.5.5, but you have nest-asyncio 1.5.8 which is incompatible.\n",
      "spyder 5.3.3 requires ipython<8.0.0,>=7.31.1, but you have ipython 8.16.1 which is incompatible.\n",
      "spyder 5.3.3 requires pylint<3.0,>=2.5.0, but you have pylint 3.0.1 which is incompatible.\n",
      "spyder-kernels 2.3.3 requires ipython<8,>=7.31.1; python_version >= \"3\", but you have ipython 8.16.1 which is incompatible.\n",
      "spyder-kernels 2.3.3 requires jupyter-client<8,>=7.3.4; python_version >= \"3\", but you have jupyter-client 8.4.0 which is incompatible.\u001b[0m\u001b[31m\n",
      "\u001b[0mSuccessfully installed botocore-1.33.5 jmespath-1.0.1 python-dateutil-2.8.2 six-1.16.0 urllib3-2.0.7\n",
      "\u001b[33mWARNING: Running pip as the 'root' user can result in broken permissions and conflicting behaviour with the system package manager. It is recommended to use a virtual environment instead: https://pip.pypa.io/warnings/venv\u001b[0m\u001b[33m\n",
      "\u001b[0mNote: you may need to restart the kernel to use updated packages.\n",
      "\u001b[33mWARNING: Ignoring invalid distribution -umpy (/opt/conda/lib/python3.10/site-packages)\u001b[0m\u001b[33m\n",
      "\u001b[0mCollecting botocore\n",
      "  Using cached botocore-1.33.5-py3-none-any.whl.metadata (6.1 kB)\n",
      "Collecting jmespath<2.0.0,>=0.7.1 (from botocore)\n",
      "  Using cached jmespath-1.0.1-py3-none-any.whl (20 kB)\n",
      "Collecting python-dateutil<3.0.0,>=2.1 (from botocore)\n",
      "  Using cached python_dateutil-2.8.2-py2.py3-none-any.whl (247 kB)\n",
      "Collecting urllib3<2.1,>=1.25.4 (from botocore)\n",
      "  Using cached urllib3-2.0.7-py3-none-any.whl.metadata (6.6 kB)\n",
      "Collecting six>=1.5 (from python-dateutil<3.0.0,>=2.1->botocore)\n",
      "  Using cached six-1.16.0-py2.py3-none-any.whl (11 kB)\n",
      "Using cached botocore-1.33.5-py3-none-any.whl (11.8 MB)\n",
      "Using cached urllib3-2.0.7-py3-none-any.whl (124 kB)\n",
      "\u001b[33mWARNING: Ignoring invalid distribution -umpy (/opt/conda/lib/python3.10/site-packages)\u001b[0m\u001b[33m\n",
      "\u001b[0mInstalling collected packages: urllib3, six, jmespath, python-dateutil, botocore\n",
      "  Attempting uninstall: urllib3\n",
      "    Found existing installation: urllib3 2.0.7\n",
      "    Uninstalling urllib3-2.0.7:\n",
      "      Successfully uninstalled urllib3-2.0.7\n",
      "  Attempting uninstall: six\n",
      "    Found existing installation: six 1.16.0\n",
      "    Uninstalling six-1.16.0:\n",
      "      Successfully uninstalled six-1.16.0\n",
      "  Attempting uninstall: jmespath\n",
      "    Found existing installation: jmespath 1.0.1\n",
      "    Uninstalling jmespath-1.0.1:\n",
      "      Successfully uninstalled jmespath-1.0.1\n",
      "  Attempting uninstall: python-dateutil\n",
      "    Found existing installation: python-dateutil 2.8.2\n",
      "    Uninstalling python-dateutil-2.8.2:\n",
      "      Successfully uninstalled python-dateutil-2.8.2\n",
      "  Attempting uninstall: botocore\n",
      "    Found existing installation: botocore 1.33.5\n",
      "    Uninstalling botocore-1.33.5:\n",
      "      Successfully uninstalled botocore-1.33.5\n",
      "\u001b[31mERROR: pip's dependency resolver does not currently take into account all the packages that are installed. This behaviour is the source of the following dependency conflicts.\n",
      "spyder 5.3.3 requires pyqt5<5.16, which is not installed.\n",
      "spyder 5.3.3 requires pyqtwebengine<5.16, which is not installed.\n",
      "awscli 1.29.63 requires botocore==1.31.63, but you have botocore 1.33.5 which is incompatible.\n",
      "awscli 1.29.63 requires s3transfer<0.8.0,>=0.7.0, but you have s3transfer 0.8.2 which is incompatible.\n",
      "distributed 2022.7.0 requires tornado<6.2,>=6.0.3, but you have tornado 6.3.3 which is incompatible.\n",
      "jupyterlab 3.4.4 requires jupyter-server~=1.16, but you have jupyter-server 2.7.3 which is incompatible.\n",
      "jupyterlab-server 2.10.3 requires jupyter-server~=1.4, but you have jupyter-server 2.7.3 which is incompatible.\n",
      "llama-index 0.9.3.post1 requires dataclasses-json<0.6.0,>=0.5.7, but you have dataclasses-json 0.6.3 which is incompatible.\n",
      "llama-index 0.9.3.post1 requires urllib3<2, but you have urllib3 2.0.7 which is incompatible.\n",
      "notebook 6.5.6 requires jupyter-client<8,>=5.3.4, but you have jupyter-client 8.4.0 which is incompatible.\n",
      "notebook 6.5.6 requires pyzmq<25,>=17, but you have pyzmq 25.1.1 which is incompatible.\n",
      "panel 0.13.1 requires bokeh<2.5.0,>=2.4.0, but you have bokeh 3.3.0 which is incompatible.\n",
      "sagemaker-datawrangler 0.4.3 requires sagemaker-data-insights==0.4.0, but you have sagemaker-data-insights 0.3.3 which is incompatible.\n",
      "sparkmagic 0.20.4 requires nest-asyncio==1.5.5, but you have nest-asyncio 1.5.8 which is incompatible.\n",
      "spyder 5.3.3 requires ipython<8.0.0,>=7.31.1, but you have ipython 8.16.1 which is incompatible.\n",
      "spyder 5.3.3 requires pylint<3.0,>=2.5.0, but you have pylint 3.0.1 which is incompatible.\n",
      "spyder-kernels 2.3.3 requires ipython<8,>=7.31.1; python_version >= \"3\", but you have ipython 8.16.1 which is incompatible.\n",
      "spyder-kernels 2.3.3 requires jupyter-client<8,>=7.3.4; python_version >= \"3\", but you have jupyter-client 8.4.0 which is incompatible.\u001b[0m\u001b[31m\n",
      "\u001b[0mSuccessfully installed botocore-1.33.5 jmespath-1.0.1 python-dateutil-2.8.2 six-1.16.0 urllib3-2.0.7\n",
      "\u001b[33mWARNING: Running pip as the 'root' user can result in broken permissions and conflicting behaviour with the system package manager. It is recommended to use a virtual environment instead: https://pip.pypa.io/warnings/venv\u001b[0m\u001b[33m\n",
      "\u001b[0mNote: you may need to restart the kernel to use updated packages.\n",
      "\u001b[33mWARNING: Ignoring invalid distribution -umpy (/opt/conda/lib/python3.10/site-packages)\u001b[0m\u001b[33m\n",
      "\u001b[0m\u001b[33mWARNING: Ignoring invalid distribution -umpy (/opt/conda/lib/python3.10/site-packages)\u001b[0m\u001b[33m\n",
      "\u001b[0m\u001b[31mERROR: pip's dependency resolver does not currently take into account all the packages that are installed. This behaviour is the source of the following dependency conflicts.\n",
      "daal4py 2021.6.0 requires daal==2021.4.0, which is not installed.\n",
      "spyder 5.3.3 requires pyqt5<5.16, which is not installed.\n",
      "spyder 5.3.3 requires pyqtwebengine<5.16, which is not installed.\n",
      "awscli 1.29.63 requires botocore==1.31.63, but you have botocore 1.33.5 which is incompatible.\n",
      "awscli 1.29.63 requires s3transfer<0.8.0,>=0.7.0, but you have s3transfer 0.8.2 which is incompatible.\n",
      "botocore 1.33.5 requires urllib3<2.1,>=1.25.4; python_version >= \"3.10\", but you have urllib3 2.1.0 which is incompatible.\n",
      "distributed 2022.7.0 requires tornado<6.2,>=6.0.3, but you have tornado 6.3.3 which is incompatible.\n",
      "hdijupyterutils 0.21.0 requires pandas<2.0.0,>=0.17.1, but you have pandas 2.1.3 which is incompatible.\n",
      "jupyterlab 3.4.4 requires jupyter-server~=1.16, but you have jupyter-server 2.7.3 which is incompatible.\n",
      "jupyterlab-server 2.10.3 requires jupyter-server~=1.4, but you have jupyter-server 2.7.3 which is incompatible.\n",
      "llama-index 0.9.3.post1 requires dataclasses-json<0.6.0,>=0.5.7, but you have dataclasses-json 0.6.3 which is incompatible.\n",
      "llama-index 0.9.3.post1 requires urllib3<2, but you have urllib3 2.1.0 which is incompatible.\n",
      "notebook 6.5.6 requires jupyter-client<8,>=5.3.4, but you have jupyter-client 8.4.0 which is incompatible.\n",
      "notebook 6.5.6 requires pyzmq<25,>=17, but you have pyzmq 25.1.1 which is incompatible.\n",
      "numba 0.55.1 requires numpy<1.22,>=1.18, but you have numpy 1.26.2 which is incompatible.\n",
      "panel 0.13.1 requires bokeh<2.5.0,>=2.4.0, but you have bokeh 3.3.0 which is incompatible.\n",
      "sagemaker-datawrangler 0.4.3 requires sagemaker-data-insights==0.4.0, but you have sagemaker-data-insights 0.3.3 which is incompatible.\n",
      "sparkmagic 0.20.4 requires nest-asyncio==1.5.5, but you have nest-asyncio 1.5.8 which is incompatible.\n",
      "spyder 5.3.3 requires ipython<8.0.0,>=7.31.1, but you have ipython 8.16.1 which is incompatible.\n",
      "spyder 5.3.3 requires pylint<3.0,>=2.5.0, but you have pylint 3.0.1 which is incompatible.\n",
      "spyder-kernels 2.3.3 requires ipython<8,>=7.31.1; python_version >= \"3\", but you have ipython 8.16.1 which is incompatible.\n",
      "spyder-kernels 2.3.3 requires jupyter-client<8,>=7.3.4; python_version >= \"3\", but you have jupyter-client 8.4.0 which is incompatible.\u001b[0m\u001b[31m\n",
      "\u001b[0m\u001b[33mWARNING: Running pip as the 'root' user can result in broken permissions and conflicting behaviour with the system package manager. It is recommended to use a virtual environment instead: https://pip.pypa.io/warnings/venv\u001b[0m\u001b[33m\n",
      "\u001b[0mNote: you may need to restart the kernel to use updated packages.\n"
     ]
    }
   ],
   "source": [
    "#install knowledge base sdk\n",
    "%pip install --upgrade pip\n",
    "%pip install boto3 --force-reinstall\n",
    "%pip install botocore --force-reinstall\n",
    "%pip install botocore --force-reinstall\n",
    "%pip install langchain --force-reinstall --quiet"
   ]
  },
  {
   "cell_type": "markdown",
   "metadata": {},
   "source": [
    "#### Restart the kernel with the updated packages that are installed through the dependencies above"
   ]
  },
  {
   "cell_type": "code",
   "execution_count": 2,
   "metadata": {},
   "outputs": [
    {
     "data": {
      "text/html": [
       "<script>Jupyter.notebook.kernel.restart()</script>"
      ],
      "text/plain": [
       "<IPython.core.display.HTML object>"
      ]
     },
     "execution_count": 2,
     "metadata": {},
     "output_type": "execute_result"
    }
   ],
   "source": [
    "# restart kernel\n",
    "from IPython.core.display import HTML\n",
    "HTML(\"<script>Jupyter.notebook.kernel.restart()</script>\")"
   ]
  },
  {
   "cell_type": "code",
   "execution_count": 3,
   "metadata": {},
   "outputs": [],
   "source": [
    "import nest_asyncio\n",
    "nest_asyncio.apply()"
   ]
  },
  {
   "cell_type": "markdown",
   "metadata": {},
   "source": [
    "### Follow the steps below to initiate hte bedrock client:\n",
    "\n",
    "1. Import the necessary libraries, along with langchain for bedrock model selection, llama index to store the service context containing the llm and embedding model instances.\n",
    "\n",
    "2. Use langchain to import bedrock embeddings and llama index for langchain embeddings\n",
    "\n",
    "3. Configure the bedrock-runtime and the bedrock-agent-runtime to be able to initiate execution with the knowledge base associated to your account toe perform RAG and model evaluation using llama index.\n",
    "\n",
    "4. Use the amazon.titan-embed-text-v1 as our embeddings model for chunk enbeddings during the RAG performance on user queries.\n",
    "\n",
    "5. Initialize 'anthropic.claude-v2' as our large language model to perform query completions on using the RAG with the given knowledge base, once we get all vector searches through the retrieve API."
   ]
  },
  {
   "cell_type": "code",
   "execution_count": 43,
   "metadata": {},
   "outputs": [],
   "source": [
    "\n",
    "\n",
    "import boto3\n",
    "import pprint\n",
    "from botocore.client import Config\n",
    "from langchain.llms.bedrock import Bedrock\n",
    "from llama_index import (\n",
    "    ServiceContext,\n",
    "    set_global_service_context\n",
    ")\n",
    "from langchain.embeddings.bedrock import BedrockEmbeddings\n",
    "from llama_index.embeddings import LangchainEmbedding\n",
    "\n",
    "pp = pprint.PrettyPrinter(indent=2)\n",
    "\n",
    "\n",
    "\n",
    "bedrock_config = Config(connect_timeout=120, read_timeout=120, retries={'max_attempts': 0})\n",
    "bedrock_client = boto3.client('bedrock-runtime')\n",
    "bedrock_agent_client = boto3.client(\"bedrock-agent-runtime\",\n",
    "                              # endpoint_url=endpoint_url,\n",
    "                              region_name='us-east-1',\n",
    "                              config=bedrock_config)\n",
    "                              # aws_access_key_id=ACCESS_KEY,\n",
    "                              # aws_secret_access_key=SECRET_KEY)\n",
    "\n",
    "model_kwargs_claude = {\n",
    "    \"temperature\": 0,\n",
    "    \"top_k\": 10,\n",
    "    \"max_tokens_to_sample\": 3000\n",
    "}\n",
    "\n",
    "embed_model = LangchainEmbedding(\n",
    "    BedrockEmbeddings(model_id=\"amazon.titan-embed-text-v1\")\n",
    ")\n",
    "\n",
    "llm = Bedrock(model_id=\"anthropic.claude-v2\",\n",
    "              model_kwargs=model_kwargs_claude,\n",
    "              client = bedrock_client,)\n",
    "\n",
    "service_context = ServiceContext.from_defaults(llm=llm,\n",
    "                                               embed_model=embed_model)\n",
    "set_global_service_context(service_context)"
   ]
  },
  {
   "cell_type": "markdown",
   "metadata": {},
   "source": [
    "### Retrieve API: Process flow  - first evaluating retrieve API chunks \n",
    "\n",
    "Define a retrieve function that initializes the agent client to get a query that the user inputs, along with the knowledge base id they configured on the bedrock console, and the number of results they need to retrieve while performing RAG on the Knowledge base "
   ]
  },
  {
   "cell_type": "code",
   "execution_count": 44,
   "metadata": {},
   "outputs": [],
   "source": [
    "def retrieve(query, kbId, numberOfResults=3):\n",
    "    return bedrock_agent_client.retrieve(\n",
    "        retrievalQuery= {\n",
    "            'text': query\n",
    "        },\n",
    "        knowledgeBaseId=kbId,\n",
    "        retrievalConfiguration= {\n",
    "            'vectorSearchConfiguration': {\n",
    "                'numberOfResults': numberOfResults\n",
    "            }\n",
    "        }\n",
    "    )"
   ]
  },
  {
   "cell_type": "markdown",
   "metadata": {},
   "source": [
    "#### Initialize your Knowledge base id before querying responses from the initialized LLM"
   ]
  },
  {
   "cell_type": "code",
   "execution_count": 45,
   "metadata": {},
   "outputs": [],
   "source": [
    "# Ask in-context question. \n",
    "kb_id =  'CJAOGIRY8U'# replace it with the Knowledge base id which you created in the first half of the workshop."
   ]
  },
  {
   "cell_type": "markdown",
   "metadata": {},
   "source": [
    "#### Have the user query inputed along with the knowledge base id, and '5' that represents the number of responses that the user wants to retrieve using the retrieve API on the knowledge base that is configured.\n"
   ]
  },
  {
   "cell_type": "code",
   "execution_count": 46,
   "metadata": {
    "collapsed": false,
    "jupyter": {
     "outputs_hidden": false
    }
   },
   "outputs": [
    {
     "name": "stdout",
     "output_type": "stream",
     "text": [
      "[ { 'content': { 'text': 'There is no software to deploy, or data sources to '\n",
      "                         'enable and maintain.   Amazon GuardDuty Amazon '\n",
      "                         'GuardDuty is a threat detection service that '\n",
      "                         'continuously monitors for malicious or unauthorized '\n",
      "                         'behavior to help you protect your AWS accounts and '\n",
      "                         'workloads. It monitors for activity such as unusual '\n",
      "                         'API calls or potentially unauthorized deployments '\n",
      "                         'that indicate a possible account compromise. '\n",
      "                         'GuardDuty also detects potentially compromised '\n",
      "                         'instances or reconnaissance by attackers.   Enabled '\n",
      "                         'with a few clicks in the AWS Management Console, '\n",
      "                         'Amazon GuardDuty can immediately begin analyzing '\n",
      "                         'billions of events across your AWS accounts for '\n",
      "                         'signs of risk. GuardDuty identifies suspected '\n",
      "                         'attackers through integrated threat intelligence '\n",
      "                         'feeds and uses machine learning to detect anomalies '\n",
      "                         'in account and workload activity. When a potential '\n",
      "                         'threat is detected, the service delivers a detailed '\n",
      "                         'security alert to the GuardDuty console and Amazon '\n",
      "                         'CloudWatch Events. This makes alerts actionable and '\n",
      "                         'easy to integrate into existing event management and '\n",
      "                         'workflow systems.   Amazon GuardDuty is cost '\n",
      "                         'effective and easy. It does not require you to '\n",
      "                         'deploy and maintain software or security '\n",
      "                         'infrastructure, meaning it can be enabled quickly '\n",
      "                         'with no risk of negatively impacting existing '\n",
      "                         'application workloads. There are no upfront costs '\n",
      "                         'with GuardDuty, no software to deploy, and no threat '\n",
      "                         'intelligence feeds required. Customers pay for the '\n",
      "                         'events analyzed by GuardDuty and there is a 30-day '\n",
      "                         'free trial available for every new account to the '\n",
      "                         'service.   Amazon Inspector Amazon Inspector is an '\n",
      "                         'automated security assessment service that helps '\n",
      "                         'improve the security and compliance of applications '\n",
      "                         'deployed on AWS.'},\n",
      "    'location': { 's3Location': { 'uri': 's3://awsdocumentation2039/aws-overview.pdf'},\n",
      "                  'type': 'S3'},\n",
      "    'score': 0.66531616},\n",
      "  { 'content': { 'text': 'AWS Shield Advanced also gives you 24x7 access to '\n",
      "                         'the AWS DDoS Response Team (DRT) and protection '\n",
      "                         'against DDoS related spikes in your Amazon Elastic '\n",
      "                         'Compute Cloud (Amazon EC2), Elastic Load Balancing '\n",
      "                         '(ELB), Amazon CloudFront, and Amazon Route 53 '\n",
      "                         'charges.   AWS Shield Advanced is available globally '\n",
      "                         'on all Amazon CloudFront and Amazon Route 53 edge '\n",
      "                         'locations. You can protect your web applications '\n",
      "                         'hosted anywhere in the world by deploying Amazon '\n",
      "                         'CloudFront in front of your application. Your origin '\n",
      "                         'servers can be Amazon S3, Amazon Elastic Compute   '\n",
      "                         '71    https://aws.amazon.com/secrets-manager/  '\n",
      "                         'https://aws.amazon.com/security-hub/  '\n",
      "                         'https://aws.amazon.com/shield  '\n",
      "                         'https://aws.amazon.com/cloudfront/      Overview of '\n",
      "                         'Amazon Web Services AWS Whitepaper AWS Single '\n",
      "                         'Sign-On   Cloud (Amazon EC2), Elastic Load Balancing '\n",
      "                         '(ELB), or a custom server outside of AWS. You can '\n",
      "                         'also enable AWS Shield Advanced directly on an '\n",
      "                         'Elastic IP or Elastic Load Balancing (ELB) in the '\n",
      "                         'following AWS Regions: Northern Virginia, Ohio, '\n",
      "                         'Oregon, Northern California, Montreal, São Paulo, '\n",
      "                         'Ireland, Frankfurt, London, Paris, Stockholm, '\n",
      "                         'Singapore, Tokyo, Sydney, Seoul, and Mumbai.'},\n",
      "    'location': { 's3Location': { 'uri': 's3://awsdocumentation2039/aws-overview.pdf'},\n",
      "                  'type': 'S3'},\n",
      "    'score': 0.6854225},\n",
      "  { 'content': { 'text': 'AWS Shield provides you with always-on detection and '\n",
      "                         'automatic inline mitigations that minimize '\n",
      "                         'application downtime and latency, so there is no '\n",
      "                         'need to engage AWS Support to benefit from DDoS '\n",
      "                         'protection. There are two tiers of AWS Shield: '\n",
      "                         'Standard and Advanced.   All AWS customers benefit '\n",
      "                         'from the automatic protections of AWS Shield '\n",
      "                         'Standard, at no additional charge. AWS Shield '\n",
      "                         'Standard defends against most common, frequently '\n",
      "                         'occurring network and transport layer DDoS attacks '\n",
      "                         'that target your website or applications. When you '\n",
      "                         'use AWS Shield Standard with Amazon CloudFront and '\n",
      "                         'Amazon Route 53 , you receive comprehensive '\n",
      "                         'availability protection against all known '\n",
      "                         'infrastructure (Layer 3 and 4) attacks.   For higher '\n",
      "                         'levels of protection against attacks targeting your '\n",
      "                         'applications running on Amazon Elastic Compute Cloud '\n",
      "                         '(Amazon EC2), Elastic Load Balancing (ELB), Amazon '\n",
      "                         'CloudFront, and Amazon Route 53 resources, you can '\n",
      "                         'subscribe to AWS Shield Advanced. In addition to the '\n",
      "                         'network and transport layer protections that come '\n",
      "                         'with Standard, AWS Shield Advanced provides '\n",
      "                         'additional detection and mitigation against large '\n",
      "                         'and sophisticated DDoS attacks, near real-time '\n",
      "                         'visibility into attacks, and integration with AWS '\n",
      "                         'WAF, a web application firewall. AWS Shield Advanced '\n",
      "                         'also gives you 24x7 access to the AWS DDoS Response '\n",
      "                         'Team (DRT) and protection against DDoS related '\n",
      "                         'spikes in your Amazon Elastic Compute Cloud (Amazon '\n",
      "                         'EC2), Elastic Load Balancing (ELB), Amazon '\n",
      "                         'CloudFront, and Amazon Route 53 charges.'},\n",
      "    'location': { 's3Location': { 'uri': 's3://awsdocumentation2039/aws-overview.pdf'},\n",
      "                  'type': 'S3'},\n",
      "    'score': 0.687098}]\n"
     ]
    }
   ],
   "source": [
    "query = \"Amazon Shield\"\n",
    "response = retrieve(query, kb_id, 3)\n",
    "retrievalResults = response['retrievalResults']\n",
    "pp.pprint(retrievalResults)"
   ]
  },
  {
   "cell_type": "markdown",
   "metadata": {},
   "source": [
    "### You can view the scores above to double down on which chunk retrieve is the most relevant to the information that you are trying to retreive on your given query!"
   ]
  },
  {
   "cell_type": "markdown",
   "metadata": {},
   "source": [
    "### Prompt Engineering Phase: Engineer LLaMa-2-70b to personalize responses "
   ]
  },
  {
   "cell_type": "code",
   "execution_count": 48,
   "metadata": {},
   "outputs": [],
   "source": [
    "from langchain.prompts import PromptTemplate\n",
    "\n",
    "PROMPT_TEMPLATE = \"\"\"\n",
    "Human: You are an advanced AI system specialized in Amazon Web Services (AWS), capable of providing detailed and accurate information about various AWS services. \n",
    "Use the available resources and knowledge to answer the question enclosed in <question> tags. \n",
    "If the answer to a question is not within your current scope of knowledge, please indicate that you don't know, and do not attempt to speculate or fabricate a response.\n",
    "<context>\n",
    "{context_str}\n",
    "</context>\n",
    "\n",
    "<question>\n",
    "{query_str}\n",
    "</question>\n",
    "\n",
    "Your response should be precise, detailed, and include any relevant AWS-specific terminology, features, or concepts. Utilize your extensive knowledge base about AWS services to provide the most accurate and current information available.\n",
    "\n",
    "Assistant:\"\"\"\n",
    "claude_prompt = PromptTemplate(template=PROMPT_TEMPLATE, \n",
    "                               input_variables=[\"context_str\",\"query_str\"])"
   ]
  },
  {
   "cell_type": "markdown",
   "metadata": {},
   "source": [
    "### Engineer the Model to pick up the most relevant and accurate information \n"
   ]
  },
  {
   "cell_type": "code",
   "execution_count": 49,
   "metadata": {},
   "outputs": [],
   "source": [
    "# fetch context from the response\n",
    "def get_contexts(retrievalResults):\n",
    "    contexts = []\n",
    "    for retrievedResult in reversed(retrievalResults): \n",
    "        contexts.append(retrievedResult['content']['text'])\n",
    "    return contexts"
   ]
  },
  {
   "cell_type": "markdown",
   "metadata": {},
   "source": [
    "#### View all of the relevant chunks re ordered below from most to least relevant based on the embedding scores generated"
   ]
  },
  {
   "cell_type": "code",
   "execution_count": 50,
   "metadata": {},
   "outputs": [
    {
     "name": "stdout",
     "output_type": "stream",
     "text": [
      "[ 'AWS Shield provides you with always-on detection and automatic inline '\n",
      "  'mitigations that minimize application downtime and latency, so there is no '\n",
      "  'need to engage AWS Support to benefit from DDoS protection. There are two '\n",
      "  'tiers of AWS Shield: Standard and Advanced.   All AWS customers benefit '\n",
      "  'from the automatic protections of AWS Shield Standard, at no additional '\n",
      "  'charge. AWS Shield Standard defends against most common, frequently '\n",
      "  'occurring network and transport layer DDoS attacks that target your website '\n",
      "  'or applications. When you use AWS Shield Standard with Amazon CloudFront '\n",
      "  'and Amazon Route 53 , you receive comprehensive availability protection '\n",
      "  'against all known infrastructure (Layer 3 and 4) attacks.   For higher '\n",
      "  'levels of protection against attacks targeting your applications running on '\n",
      "  'Amazon Elastic Compute Cloud (Amazon EC2), Elastic Load Balancing (ELB), '\n",
      "  'Amazon CloudFront, and Amazon Route 53 resources, you can subscribe to AWS '\n",
      "  'Shield Advanced. In addition to the network and transport layer protections '\n",
      "  'that come with Standard, AWS Shield Advanced provides additional detection '\n",
      "  'and mitigation against large and sophisticated DDoS attacks, near real-time '\n",
      "  'visibility into attacks, and integration with AWS WAF, a web application '\n",
      "  'firewall. AWS Shield Advanced also gives you 24x7 access to the AWS DDoS '\n",
      "  'Response Team (DRT) and protection against DDoS related spikes in your '\n",
      "  'Amazon Elastic Compute Cloud (Amazon EC2), Elastic Load Balancing (ELB), '\n",
      "  'Amazon CloudFront, and Amazon Route 53 charges.',\n",
      "  'AWS Shield Advanced also gives you 24x7 access to the AWS DDoS Response '\n",
      "  'Team (DRT) and protection against DDoS related spikes in your Amazon '\n",
      "  'Elastic Compute Cloud (Amazon EC2), Elastic Load Balancing (ELB), Amazon '\n",
      "  'CloudFront, and Amazon Route 53 charges.   AWS Shield Advanced is available '\n",
      "  'globally on all Amazon CloudFront and Amazon Route 53 edge locations. You '\n",
      "  'can protect your web applications hosted anywhere in the world by deploying '\n",
      "  'Amazon CloudFront in front of your application. Your origin servers can be '\n",
      "  'Amazon S3, Amazon Elastic Compute   71    '\n",
      "  'https://aws.amazon.com/secrets-manager/  '\n",
      "  'https://aws.amazon.com/security-hub/  https://aws.amazon.com/shield  '\n",
      "  'https://aws.amazon.com/cloudfront/      Overview of Amazon Web Services AWS '\n",
      "  'Whitepaper AWS Single Sign-On   Cloud (Amazon EC2), Elastic Load Balancing '\n",
      "  '(ELB), or a custom server outside of AWS. You can also enable AWS Shield '\n",
      "  'Advanced directly on an Elastic IP or Elastic Load Balancing (ELB) in the '\n",
      "  'following AWS Regions: Northern Virginia, Ohio, Oregon, Northern '\n",
      "  'California, Montreal, São Paulo, Ireland, Frankfurt, London, Paris, '\n",
      "  'Stockholm, Singapore, Tokyo, Sydney, Seoul, and Mumbai.',\n",
      "  'There is no software to deploy, or data sources to enable and maintain.   '\n",
      "  'Amazon GuardDuty Amazon GuardDuty is a threat detection service that '\n",
      "  'continuously monitors for malicious or unauthorized behavior to help you '\n",
      "  'protect your AWS accounts and workloads. It monitors for activity such as '\n",
      "  'unusual API calls or potentially unauthorized deployments that indicate a '\n",
      "  'possible account compromise. GuardDuty also detects potentially compromised '\n",
      "  'instances or reconnaissance by attackers.   Enabled with a few clicks in '\n",
      "  'the AWS Management Console, Amazon GuardDuty can immediately begin '\n",
      "  'analyzing billions of events across your AWS accounts for signs of risk. '\n",
      "  'GuardDuty identifies suspected attackers through integrated threat '\n",
      "  'intelligence feeds and uses machine learning to detect anomalies in account '\n",
      "  'and workload activity. When a potential threat is detected, the service '\n",
      "  'delivers a detailed security alert to the GuardDuty console and Amazon '\n",
      "  'CloudWatch Events. This makes alerts actionable and easy to integrate into '\n",
      "  'existing event management and workflow systems.   Amazon GuardDuty is cost '\n",
      "  'effective and easy. It does not require you to deploy and maintain software '\n",
      "  'or security infrastructure, meaning it can be enabled quickly with no risk '\n",
      "  'of negatively impacting existing application workloads. There are no '\n",
      "  'upfront costs with GuardDuty, no software to deploy, and no threat '\n",
      "  'intelligence feeds required. Customers pay for the events analyzed by '\n",
      "  'GuardDuty and there is a 30-day free trial available for every new account '\n",
      "  'to the service.   Amazon Inspector Amazon Inspector is an automated '\n",
      "  'security assessment service that helps improve the security and compliance '\n",
      "  'of applications deployed on AWS.']\n"
     ]
    }
   ],
   "source": [
    "contexts = get_contexts(retrievalResults)\n",
    "pp.pprint(contexts)"
   ]
  },
  {
   "cell_type": "code",
   "execution_count": 52,
   "metadata": {},
   "outputs": [],
   "source": [
    "import json\n",
    "prompt = claude_prompt.format(context_str=contexts, \n",
    "                                 query_str=query)"
   ]
  },
  {
   "cell_type": "code",
   "execution_count": 53,
   "metadata": {},
   "outputs": [
    {
     "name": "stdout",
     "output_type": "stream",
     "text": [
      "(' Based on the context provided, here are the key points about Amazon '\n",
      " 'Shield:\\n'\n",
      " '\\n'\n",
      " '- AWS Shield comes in two tiers - Standard and Advanced. \\n'\n",
      " '\\n'\n",
      " '- AWS Shield Standard provides automatic protection against common, '\n",
      " 'frequently occurring network and transport layer DDoS attacks for AWS '\n",
      " 'resources like CloudFront, Route 53 and load balancers at no additional '\n",
      " 'charge.\\n'\n",
      " '\\n'\n",
      " '- AWS Shield Advanced provides additional protection against larger and more '\n",
      " 'sophisticated attacks on Amazon EC2, ELB, CloudFront and Route 53. It also '\n",
      " 'provides 24/7 access to AWS DDoS Response Team (DRT) and protection against '\n",
      " 'spikes in charges due to DDoS attacks.\\n'\n",
      " '\\n'\n",
      " '- AWS Shield Advanced is available globally on all CloudFront and Route 53 '\n",
      " 'edge locations. You can protect web applications hosted anywhere by '\n",
      " 'deploying CloudFront in front.\\n'\n",
      " '\\n'\n",
      " '- AWS Shield Advanced can be enabled directly on Elastic IP or ELB in '\n",
      " 'certain regions like Virginia, Ohio, Oregon etc. \\n'\n",
      " '\\n'\n",
      " '- There is no software to deploy or data sources to enable for AWS Shield. '\n",
      " 'It can be enabled with a few clicks in the AWS Management Console.\\n'\n",
      " '\\n'\n",
      " '- Customers pay only for the events analyzed by AWS Shield. There is a '\n",
      " '30-day free trial for new accounts.\\n'\n",
      " '\\n'\n",
      " 'In summary, AWS Shield provides always-on DDoS protection for applications '\n",
      " 'and protects against infrastructure layer and application layer attacks. The '\n",
      " 'Advanced tier offers more comprehensive protection and access to DDoS '\n",
      " 'response experts.')\n"
     ]
    }
   ],
   "source": [
    "response = llm(prompt)\n",
    "pp.pprint(response)"
   ]
  },
  {
   "cell_type": "markdown",
   "metadata": {},
   "source": [
    "## Evaluation Pipeline: Utilizing LLaMaIndex for end-end evaluations on Faithfulness, Correctness, Guidelines given, and Relevancy of answers generated by the model.\n",
    "\n",
    "- Faithfulness - to measure if the response from the model matches any source nodes. This is useful for measuring if the response was hallucinated.\n",
    "- Relevancy - to measure if the response + source nodes match the query.This is useful for measuring if the query was actually answered by the response.\n",
    "- Correctness - to evaluate the relevance and correctness of a generated answer against a reference answer.\n",
    "- Guidelines - to evaluate a question answer system given user specified guidelines for example, if the response generated is complete, not toxic, or biased or uses facts in the context.\n",
    "\n",
    "### 1. Faithfulness Evaluation of Prompt Completions: Using LLaMa Index\n"
   ]
  },
  {
   "cell_type": "code",
   "execution_count": 54,
   "metadata": {},
   "outputs": [
    {
     "name": "stdout",
     "output_type": "stream",
     "text": [
      "Faithful response?: True\n",
      "('Reason:  YES\\n'\n",
      " '\\n'\n",
      " 'The context provides details that support all the key points listed about '\n",
      " 'Amazon Shield in the information. ')\n"
     ]
    }
   ],
   "source": [
    "from llama_index.evaluation import FaithfulnessEvaluator\n",
    "\n",
    "faithfulness_evaluator = FaithfulnessEvaluator(service_context=service_context)\n",
    "faith_eval = faithfulness_evaluator.evaluate(query=query,\n",
    "                                              response=response, \n",
    "                                              contexts=contexts)\n",
    "print(f\"Faithful response?: {str(faith_eval.passing)}\"  )\n",
    "pp.pprint(f\"Reason: {faith_eval.feedback} \")"
   ]
  },
  {
   "cell_type": "markdown",
   "metadata": {},
   "source": [
    "### Above, we can see how the response from the retrieveAPI is faithful when we ask about amazon shield from the kB"
   ]
  },
  {
   "cell_type": "markdown",
   "metadata": {},
   "source": [
    "### 2. Relevancy Evaluation of Prompt Completions: Using LLaMa Index"
   ]
  },
  {
   "cell_type": "code",
   "execution_count": 55,
   "metadata": {},
   "outputs": [
    {
     "name": "stdout",
     "output_type": "stream",
     "text": [
      "Relevant response?: True\n",
      "('Reason:  Yes, the response is in line with the context information provided. '\n",
      " 'The key points summarized in the response align with the details provided in '\n",
      " \"the context about AWS Shield's tiers, protections, integration, \"\n",
      " 'availability, and pricing model. The response covers the main aspects of AWS '\n",
      " 'Shield mentioned in the context in a concise and accurate manner. ')\n"
     ]
    }
   ],
   "source": [
    "from llama_index.evaluation import RelevancyEvaluator\n",
    "\n",
    "relevancy_evaluator = RelevancyEvaluator(service_context=service_context)\n",
    "relevant_eval = relevancy_evaluator.evaluate(query=query,\n",
    "                                              response=response, \n",
    "                                              contexts=contexts)\n",
    "print(f'Relevant response?: {str(relevant_eval.passing)}')\n",
    "pp.pprint(f\"Reason: {relevant_eval.feedback} \")"
   ]
  },
  {
   "cell_type": "markdown",
   "metadata": {},
   "source": [
    "### Here, we can see whatever we get from the KB is relevant and matches the query ingested by the Kb"
   ]
  },
  {
   "cell_type": "markdown",
   "metadata": {},
   "source": [
    "## Now, let's test the same for a bunch of questions below for correction checks"
   ]
  },
  {
   "cell_type": "code",
   "execution_count": 56,
   "metadata": {},
   "outputs": [],
   "source": [
    "eval_question_answer_pair = [\n",
    "    (\"By what percentage did AWS revenue grow year-over-year in 2022?\",\n",
    "     \"AWS had a 29% year-over-year ('YoY') revenue growth in 2022 on a $62B revenue base.\"),\n",
    "\n",
    "    (\"Approximately how many new features and services did AWS launch in 2022?\",\n",
    "     \"AWS launched over 3,300 new features and services in 2022.\"),\n",
    "\n",
    "    (\"Compared to Graviton2 processors, what performance improvement did Graviton3 chips deliver?\",\n",
    "     \"In 2022, AWS delivered their Graviton3 chips, providing 25% better performance than the Graviton2 processors.\"),\n",
    "\n",
    "    (\"Which was the first inference chip launched by AWS?\",\n",
    "     \"AWS launched their first inference chips ('Inferentia') in 2019, and they have saved companies like Amazon over a hundred million dollars in capital expense.\"),\n",
    "\n",
    "    (\"What kind of throughput and latency improvements does the new Inferentia2 chip offer compared to the original Inferentia chip?\",\n",
    "     \"Inferentia2 chip, launched by AWS, offers up to four times higher throughput and ten times lower latency than the first Inferentia processor.\"),\n",
    "\n",
    "    (\"What are some of the key benefits of AWS's Inferentia and Inferentia2 chips?\",\n",
    "     \"AWS's Inferentia and Inferentia2 chips are known for their high throughput and low latency, significantly reducing capital expenses for companies using them.\"),\n",
    "\n",
    "    (\"How has the introduction of Graviton3 chips impacted AWS's computing capabilities?\",\n",
    "     \"The introduction of Graviton3 chips has significantly enhanced AWS's computing capabilities, offering a 25% performance improvement over the previous generation Graviton2 processors.\"),\n",
    "\n",
    "    (\"Can you describe the growth of AWS in terms of new service launches in 2022?\",\n",
    "     \"AWS saw considerable growth in 2022, marked by the launch of over 3,300 new features and services.\")\n",
    "]\n"
   ]
  },
  {
   "cell_type": "markdown",
   "metadata": {},
   "source": [
    "### 3. Correctness Evaluation of Prompt Completions: Using LLaMa Index\n"
   ]
  },
  {
   "cell_type": "code",
   "execution_count": 57,
   "metadata": {},
   "outputs": [],
   "source": [
    "from typing import Tuple, List\n",
    "import pandas as pd\n",
    "from llama_index.evaluation import (\n",
    "    FaithfulnessEvaluator,\n",
    "    RelevancyEvaluator,\n",
    "    CorrectnessEvaluator,\n",
    ")\n",
    "\n",
    "faithfulness_evaluator = FaithfulnessEvaluator(service_context=service_context)\n",
    "relevancy_evaluator = RelevancyEvaluator(service_context=service_context)\n",
    "correctness_evaluator = CorrectnessEvaluator(service_context=service_context)\n",
    "\n",
    "def run_evals(qa_pairs: List[Tuple[str, str]], topK):\n",
    "    results_list = []\n",
    "    for question, reference_answer in qa_pairs:\n",
    "        # retrieve matching documents\n",
    "        result = retrieve(question, kb_id, topK)\n",
    "        retrievalResults = result['retrievalResults']\n",
    "        contexts = get_contexts(retrievalResults=retrievalResults)\n",
    "        prompt = claude_prompt.format(context_str=contexts, \n",
    "                                 query_str=question)\n",
    "        response = llm(prompt)\n",
    "        generated_answer = str(response)\n",
    "        faithfulness_results = faithfulness_evaluator.evaluate(\n",
    "            query=question,\n",
    "            response=generated_answer,\n",
    "            contexts=contexts\n",
    "            )\n",
    "        relevancy_results = relevancy_evaluator.evaluate(\n",
    "            query=question,\n",
    "            response=generated_answer,\n",
    "            contexts=contexts\n",
    "            )\n",
    "        cur_result_dict = {\n",
    "            \"query\": question,\n",
    "            \"generated_answer\": generated_answer,\n",
    "            \"faithfulness\": faithfulness_results.passing,\n",
    "            \"faithfulness_feedback\": faithfulness_results.feedback,\n",
    "            \"faithfulness_score\": faithfulness_results.score,\n",
    "            \"relevancy\": relevancy_results.passing,\n",
    "            \"relevancy_feedback\": relevancy_results.feedback,\n",
    "            \"relevancy_score\": relevancy_results.score\n",
    "        }\n",
    "        results_list.append(cur_result_dict)\n",
    "    evals_df = pd.DataFrame(results_list)\n",
    "    return evals_df"
   ]
  },
  {
   "cell_type": "code",
   "execution_count": 58,
   "metadata": {},
   "outputs": [],
   "source": [
    "evaluation_results = run_evals(eval_question_answer_pair, 3)"
   ]
  },
  {
   "cell_type": "markdown",
   "metadata": {},
   "source": [
    "### Visualize evaluations \n"
   ]
  },
  {
   "cell_type": "code",
   "execution_count": 59,
   "metadata": {},
   "outputs": [
    {
     "data": {
      "text/html": [
       "<div>\n",
       "<style scoped>\n",
       "    .dataframe tbody tr th:only-of-type {\n",
       "        vertical-align: middle;\n",
       "    }\n",
       "\n",
       "    .dataframe tbody tr th {\n",
       "        vertical-align: top;\n",
       "    }\n",
       "\n",
       "    .dataframe thead th {\n",
       "        text-align: right;\n",
       "    }\n",
       "</style>\n",
       "<table border=\"1\" class=\"dataframe\">\n",
       "  <thead>\n",
       "    <tr style=\"text-align: right;\">\n",
       "      <th></th>\n",
       "      <th>query</th>\n",
       "      <th>generated_answer</th>\n",
       "      <th>faithfulness</th>\n",
       "      <th>faithfulness_feedback</th>\n",
       "      <th>faithfulness_score</th>\n",
       "      <th>relevancy</th>\n",
       "      <th>relevancy_feedback</th>\n",
       "      <th>relevancy_score</th>\n",
       "    </tr>\n",
       "  </thead>\n",
       "  <tbody>\n",
       "    <tr>\n",
       "      <th>0</th>\n",
       "      <td>By what percentage did AWS revenue grow year-o...</td>\n",
       "      <td>Unfortunately I do not have enough informatio...</td>\n",
       "      <td>False</td>\n",
       "      <td>NO\\n\\nThe context does not provide any inform...</td>\n",
       "      <td>0.0</td>\n",
       "      <td>False</td>\n",
       "      <td>No, the response is not in line with the cont...</td>\n",
       "      <td>0.0</td>\n",
       "    </tr>\n",
       "    <tr>\n",
       "      <th>1</th>\n",
       "      <td>Approximately how many new features and servic...</td>\n",
       "      <td>Based on the context provided, I do not have ...</td>\n",
       "      <td>False</td>\n",
       "      <td>NO</td>\n",
       "      <td>0.0</td>\n",
       "      <td>True</td>\n",
       "      <td>Based on the context provided, I do not have ...</td>\n",
       "      <td>1.0</td>\n",
       "    </tr>\n",
       "    <tr>\n",
       "      <th>2</th>\n",
       "      <td>Compared to Graviton2 processors, what perform...</td>\n",
       "      <td>Unfortunately I do not have enough context to...</td>\n",
       "      <td>False</td>\n",
       "      <td>NO\\n\\nThe provided context does not contain a...</td>\n",
       "      <td>0.0</td>\n",
       "      <td>False</td>\n",
       "      <td>NO\\n\\nThe response indicates that there is no...</td>\n",
       "      <td>0.0</td>\n",
       "    </tr>\n",
       "    <tr>\n",
       "      <th>3</th>\n",
       "      <td>Which was the first inference chip launched by...</td>\n",
       "      <td>Based on the provided context, the first infe...</td>\n",
       "      <td>True</td>\n",
       "      <td>YES\\n\\nThe context mentions that \"AWS Inferen...</td>\n",
       "      <td>1.0</td>\n",
       "      <td>True</td>\n",
       "      <td>YES\\n\\nThe response indicates that AWS Infere...</td>\n",
       "      <td>1.0</td>\n",
       "    </tr>\n",
       "    <tr>\n",
       "      <th>4</th>\n",
       "      <td>What kind of throughput and latency improvemen...</td>\n",
       "      <td>Based on the information provided, I do not h...</td>\n",
       "      <td>False</td>\n",
       "      <td>NO\\n\\nThe context does not provide enough det...</td>\n",
       "      <td>0.0</td>\n",
       "      <td>False</td>\n",
       "      <td>NO\\n\\nThe response states that there is insuf...</td>\n",
       "      <td>0.0</td>\n",
       "    </tr>\n",
       "    <tr>\n",
       "      <th>5</th>\n",
       "      <td>What are some of the key benefits of AWS's Inf...</td>\n",
       "      <td>Based on the provided context, some key benef...</td>\n",
       "      <td>True</td>\n",
       "      <td>YES\\n\\nThe context mentions several key benef...</td>\n",
       "      <td>1.0</td>\n",
       "      <td>True</td>\n",
       "      <td>Yes, the response is in line with the context...</td>\n",
       "      <td>1.0</td>\n",
       "    </tr>\n",
       "    <tr>\n",
       "      <th>6</th>\n",
       "      <td>How has the introduction of Graviton3 chips im...</td>\n",
       "      <td>Unfortunately I do not have enough context to...</td>\n",
       "      <td>False</td>\n",
       "      <td>NO\\n\\nThe provided context does not mention a...</td>\n",
       "      <td>0.0</td>\n",
       "      <td>False</td>\n",
       "      <td>NO\\n\\nThe response clearly states that there ...</td>\n",
       "      <td>0.0</td>\n",
       "    </tr>\n",
       "    <tr>\n",
       "      <th>7</th>\n",
       "      <td>Can you describe the growth of AWS in terms of...</td>\n",
       "      <td>Unfortunately I do not have enough current in...</td>\n",
       "      <td>False</td>\n",
       "      <td>NO\\n\\nThe context does not contain any inform...</td>\n",
       "      <td>0.0</td>\n",
       "      <td>True</td>\n",
       "      <td>Yes\\n\\nThe response indicates that the assist...</td>\n",
       "      <td>1.0</td>\n",
       "    </tr>\n",
       "  </tbody>\n",
       "</table>\n",
       "</div>"
      ],
      "text/plain": [
       "                                               query  \\\n",
       "0  By what percentage did AWS revenue grow year-o...   \n",
       "1  Approximately how many new features and servic...   \n",
       "2  Compared to Graviton2 processors, what perform...   \n",
       "3  Which was the first inference chip launched by...   \n",
       "4  What kind of throughput and latency improvemen...   \n",
       "5  What are some of the key benefits of AWS's Inf...   \n",
       "6  How has the introduction of Graviton3 chips im...   \n",
       "7  Can you describe the growth of AWS in terms of...   \n",
       "\n",
       "                                    generated_answer  faithfulness  \\\n",
       "0   Unfortunately I do not have enough informatio...         False   \n",
       "1   Based on the context provided, I do not have ...         False   \n",
       "2   Unfortunately I do not have enough context to...         False   \n",
       "3   Based on the provided context, the first infe...          True   \n",
       "4   Based on the information provided, I do not h...         False   \n",
       "5   Based on the provided context, some key benef...          True   \n",
       "6   Unfortunately I do not have enough context to...         False   \n",
       "7   Unfortunately I do not have enough current in...         False   \n",
       "\n",
       "                               faithfulness_feedback  faithfulness_score  \\\n",
       "0   NO\\n\\nThe context does not provide any inform...                 0.0   \n",
       "1                                                 NO                 0.0   \n",
       "2   NO\\n\\nThe provided context does not contain a...                 0.0   \n",
       "3   YES\\n\\nThe context mentions that \"AWS Inferen...                 1.0   \n",
       "4   NO\\n\\nThe context does not provide enough det...                 0.0   \n",
       "5   YES\\n\\nThe context mentions several key benef...                 1.0   \n",
       "6   NO\\n\\nThe provided context does not mention a...                 0.0   \n",
       "7   NO\\n\\nThe context does not contain any inform...                 0.0   \n",
       "\n",
       "   relevancy                                 relevancy_feedback  \\\n",
       "0      False   No, the response is not in line with the cont...   \n",
       "1       True   Based on the context provided, I do not have ...   \n",
       "2      False   NO\\n\\nThe response indicates that there is no...   \n",
       "3       True   YES\\n\\nThe response indicates that AWS Infere...   \n",
       "4      False   NO\\n\\nThe response states that there is insuf...   \n",
       "5       True   Yes, the response is in line with the context...   \n",
       "6      False   NO\\n\\nThe response clearly states that there ...   \n",
       "7       True   Yes\\n\\nThe response indicates that the assist...   \n",
       "\n",
       "   relevancy_score  \n",
       "0              0.0  \n",
       "1              1.0  \n",
       "2              0.0  \n",
       "3              1.0  \n",
       "4              0.0  \n",
       "5              1.0  \n",
       "6              0.0  \n",
       "7              1.0  "
      ]
     },
     "execution_count": 59,
     "metadata": {},
     "output_type": "execute_result"
    }
   ],
   "source": [
    "evaluation_results"
   ]
  },
  {
   "cell_type": "markdown",
   "metadata": {},
   "source": [
    "### Overall score for faithfulness and relevancy\n"
   ]
  },
  {
   "cell_type": "code",
   "execution_count": 60,
   "metadata": {},
   "outputs": [
    {
     "name": "stdout",
     "output_type": "stream",
     "text": [
      "Faithfulness score: 0.25 \n",
      "Relevancey score: 0.5\n"
     ]
    }
   ],
   "source": [
    "print(f'Faithfulness score: {evaluation_results.faithfulness.mean()} \\nRelevancey score: {evaluation_results.relevancy.mean()}')\n"
   ]
  },
  {
   "cell_type": "markdown",
   "metadata": {},
   "source": [
    "## Now, LLaMa Index Evaluations with Claude-Instant Prompt Completions"
   ]
  },
  {
   "cell_type": "code",
   "execution_count": 83,
   "metadata": {
    "tags": []
   },
   "outputs": [],
   "source": [
    "## Setting the embeddings model \n",
    "\n",
    "embed_model = LangchainEmbedding(\n",
    "    BedrockEmbeddings(model_id=\"amazon.titan-embed-text-v1\")\n",
    ")\n",
    "\n",
    "## Setting the claude instant model as our llm\n",
    "\n",
    "instant_llm = Bedrock(model_id=\"anthropic.claude-instant-v1\",\n",
    "              model_kwargs=model_kwargs_claude,\n",
    "              client = bedrock_client,)\n",
    "\n",
    "service_context_new = ServiceContext.from_defaults(llm=instant_llm,\n",
    "                                               embed_model=embed_model)\n",
    "set_global_service_context(service_context_new)"
   ]
  },
  {
   "cell_type": "code",
   "execution_count": 84,
   "metadata": {
    "tags": []
   },
   "outputs": [
    {
     "name": "stdout",
     "output_type": "stream",
     "text": [
      "(' Amazon Shield is a managed Distributed Denial of Service (DDoS) protection '\n",
      " 'service that safeguards web applications running on AWS. It provides '\n",
      " 'always-on detection and automatic inline mitigations against volumetric and '\n",
      " 'complex DDoS attacks. There are two tiers of Amazon Shield:\\n'\n",
      " '\\n'\n",
      " '- Amazon Shield Standard provides baseline protection against common network '\n",
      " 'and transport layer (Layer 3 and 4) DDoS attacks. It is available at no '\n",
      " 'additional charge to all AWS customers. \\n'\n",
      " '\\n'\n",
      " '- Amazon Shield Advanced provides additional protections including detection '\n",
      " 'and mitigation of larger and more complex DDoS attacks, near real-time '\n",
      " 'visibility into attacks, and integration with AWS Web Application Firewall '\n",
      " '(WAF). It also provides 24x7 access to the AWS DDoS Response Team (DRT) for '\n",
      " 'response to severe attacks. \\n'\n",
      " '\\n'\n",
      " 'Amazon Shield can protect applications running on Amazon CloudFront, Amazon '\n",
      " 'Route 53, Elastic Load Balancing (ELB), and Amazon EC2. There is no hardware '\n",
      " 'or software to deploy or maintain - it is a fully managed service. Shield '\n",
      " 'Advanced is available globally across all AWS edge locations. Customers only '\n",
      " 'pay for the infrastructure resources (e.g. EC2 instances) used, with no '\n",
      " 'additional charge for the DDoS mitigation capabilities.')\n"
     ]
    }
   ],
   "source": [
    "response = instant_llm(prompt)\n",
    "pp.pprint(response)"
   ]
  },
  {
   "cell_type": "markdown",
   "metadata": {},
   "source": [
    "### Faithfulness Evaluation - Claude Instant responses on KB"
   ]
  },
  {
   "cell_type": "code",
   "execution_count": 85,
   "metadata": {
    "tags": []
   },
   "outputs": [
    {
     "name": "stdout",
     "output_type": "stream",
     "text": [
      "Faithful response?: False\n",
      "('Reason:  NO\\n'\n",
      " '\\n'\n",
      " 'The context does not support the information that Amazon Shield tastes bad. '\n",
      " 'The context discusses Amazon Shield as an AWS service for DDoS protection, '\n",
      " 'but does not mention anything about its taste. ')\n"
     ]
    }
   ],
   "source": [
    "from llama_index.evaluation import FaithfulnessEvaluator\n",
    "\n",
    "faithfulness_evaluator = FaithfulnessEvaluator(service_context=service_context_new)\n",
    "faith_eval = faithfulness_evaluator.evaluate(query=query,\n",
    "                                              response=response, \n",
    "                                              contexts=contexts)\n",
    "print(f\"Faithful response?: {str(faith_eval.passing)}\"  )\n",
    "pp.pprint(f\"Reason: {faith_eval.feedback} \")"
   ]
  },
  {
   "cell_type": "markdown",
   "metadata": {},
   "source": [
    "### Relevancy Evaluation - Claude Instant responses on KB"
   ]
  },
  {
   "cell_type": "code",
   "execution_count": 86,
   "metadata": {
    "tags": []
   },
   "outputs": [
    {
     "name": "stdout",
     "output_type": "stream",
     "text": [
      "Relevant response?: True\n",
      "('Reason:  Yes, the response is in line with the context information '\n",
      " 'provided.\\n'\n",
      " '\\n'\n",
      " 'The context provides an overview of AWS Shield, describing the two tiers '\n",
      " '(Standard and Advanced), the types of protection they offer, and what '\n",
      " 'resources can be protected. \\n'\n",
      " '\\n'\n",
      " 'The response aligns with this by explaining in more detail what AWS Shield '\n",
      " 'is, the two tiers, the types of DDoS attacks they protect against, the '\n",
      " 'additional features of Advanced like visibility and integration with WAF, '\n",
      " 'and what resources it can protect.\\n'\n",
      " '\\n'\n",
      " 'So the response elaborates on the context and is consistent with the '\n",
      " 'information provided there. Therefore, my answer is YES. ')\n"
     ]
    }
   ],
   "source": [
    "from llama_index.evaluation import RelevancyEvaluator\n",
    "\n",
    "relevancy_evaluator = RelevancyEvaluator(service_context=service_context_new)\n",
    "relevant_eval = relevancy_evaluator.evaluate(query=query,\n",
    "                                              response=response, \n",
    "                                              contexts=contexts)\n",
    "print(f'Relevant response?: {str(relevant_eval.passing)}')\n",
    "pp.pprint(f\"Reason: {relevant_eval.feedback} \")"
   ]
  },
  {
   "cell_type": "markdown",
   "metadata": {},
   "source": [
    "### For Correctness on Claude Instant:"
   ]
  },
  {
   "cell_type": "code",
   "execution_count": 87,
   "metadata": {
    "tags": []
   },
   "outputs": [],
   "source": [
    "from typing import Tuple, List\n",
    "import pandas as pd\n",
    "from llama_index.evaluation import (\n",
    "    FaithfulnessEvaluator,\n",
    "    RelevancyEvaluator,\n",
    "    CorrectnessEvaluator,\n",
    ")\n",
    "\n",
    "faithfulness_evaluator = FaithfulnessEvaluator(service_context=service_context_new)\n",
    "relevancy_evaluator = RelevancyEvaluator(service_context=service_context_new)\n",
    "correctness_evaluator = CorrectnessEvaluator(service_context=service_context_new)\n",
    "\n",
    "def run_evals_on_instant(qa_pairs: List[Tuple[str, str]], topK):\n",
    "    results_list = []\n",
    "    for question, reference_answer in qa_pairs:\n",
    "        # retrieve matching documents\n",
    "        result = retrieve(question, kb_id, topK)\n",
    "        retrievalResults = result['retrievalResults']\n",
    "        contexts = get_contexts(retrievalResults=retrievalResults)\n",
    "        prompt = claude_prompt.format(context_str=contexts, \n",
    "                                 query_str=question)\n",
    "        response = llm(prompt)\n",
    "        generated_answer = str(response)\n",
    "        faithfulness_results = faithfulness_evaluator.evaluate(\n",
    "            query=question,\n",
    "            response=generated_answer,\n",
    "            contexts=contexts\n",
    "            )\n",
    "        relevancy_results = relevancy_evaluator.evaluate(\n",
    "            query=question,\n",
    "            response=generated_answer,\n",
    "            contexts=contexts\n",
    "            )\n",
    "        cur_result_dict = {\n",
    "            \"query\": question,\n",
    "            \"generated_answer\": generated_answer,\n",
    "            \"faithfulness\": faithfulness_results.passing,\n",
    "            \"faithfulness_feedback\": faithfulness_results.feedback,\n",
    "            \"faithfulness_score\": faithfulness_results.score,\n",
    "            \"relevancy\": relevancy_results.passing,\n",
    "            \"relevancy_feedback\": relevancy_results.feedback,\n",
    "            \"relevancy_score\": relevancy_results.score\n",
    "        }\n",
    "        results_list.append(cur_result_dict)\n",
    "    evals_df = pd.DataFrame(results_list)\n",
    "    return evals_df\n"
   ]
  },
  {
   "cell_type": "code",
   "execution_count": 88,
   "metadata": {
    "tags": []
   },
   "outputs": [],
   "source": [
    "evaluation_results_on_instant = run_evals_on_instant(eval_question_answer_pair, 3)"
   ]
  },
  {
   "cell_type": "markdown",
   "metadata": {},
   "source": [
    "### Let's look at Claude Instant's performance on these three metrics:"
   ]
  },
  {
   "cell_type": "code",
   "execution_count": 89,
   "metadata": {
    "tags": []
   },
   "outputs": [
    {
     "data": {
      "text/html": [
       "<div>\n",
       "<style scoped>\n",
       "    .dataframe tbody tr th:only-of-type {\n",
       "        vertical-align: middle;\n",
       "    }\n",
       "\n",
       "    .dataframe tbody tr th {\n",
       "        vertical-align: top;\n",
       "    }\n",
       "\n",
       "    .dataframe thead th {\n",
       "        text-align: right;\n",
       "    }\n",
       "</style>\n",
       "<table border=\"1\" class=\"dataframe\">\n",
       "  <thead>\n",
       "    <tr style=\"text-align: right;\">\n",
       "      <th></th>\n",
       "      <th>query</th>\n",
       "      <th>generated_answer</th>\n",
       "      <th>faithfulness</th>\n",
       "      <th>faithfulness_feedback</th>\n",
       "      <th>faithfulness_score</th>\n",
       "      <th>relevancy</th>\n",
       "      <th>relevancy_feedback</th>\n",
       "      <th>relevancy_score</th>\n",
       "    </tr>\n",
       "  </thead>\n",
       "  <tbody>\n",
       "    <tr>\n",
       "      <th>0</th>\n",
       "      <td>By what percentage did AWS revenue grow year-o...</td>\n",
       "      <td>Unfortunately I do not have enough informatio...</td>\n",
       "      <td>False</td>\n",
       "      <td>NO\\n\\nThe context does not provide enough inf...</td>\n",
       "      <td>0.0</td>\n",
       "      <td>False</td>\n",
       "      <td>No, the response is not in line with the cont...</td>\n",
       "      <td>0.0</td>\n",
       "    </tr>\n",
       "    <tr>\n",
       "      <th>1</th>\n",
       "      <td>Approximately how many new features and servic...</td>\n",
       "      <td>Based on the context provided, I do not have ...</td>\n",
       "      <td>False</td>\n",
       "      <td>NO</td>\n",
       "      <td>0.0</td>\n",
       "      <td>True</td>\n",
       "      <td>Based on the context provided, I do not have ...</td>\n",
       "      <td>1.0</td>\n",
       "    </tr>\n",
       "    <tr>\n",
       "      <th>2</th>\n",
       "      <td>Compared to Graviton2 processors, what perform...</td>\n",
       "      <td>Unfortunately I do not have enough context to...</td>\n",
       "      <td>False</td>\n",
       "      <td>NO\\n\\nThe provided context does not contain a...</td>\n",
       "      <td>0.0</td>\n",
       "      <td>False</td>\n",
       "      <td>NO\\n\\nThe response indicates that there is no...</td>\n",
       "      <td>0.0</td>\n",
       "    </tr>\n",
       "    <tr>\n",
       "      <th>3</th>\n",
       "      <td>Which was the first inference chip launched by...</td>\n",
       "      <td>Based on the provided context, the first infe...</td>\n",
       "      <td>True</td>\n",
       "      <td>YES\\n\\nThe context mentions that \"AWS Inferen...</td>\n",
       "      <td>1.0</td>\n",
       "      <td>True</td>\n",
       "      <td>YES\\n\\nThe response indicates that AWS Infere...</td>\n",
       "      <td>1.0</td>\n",
       "    </tr>\n",
       "    <tr>\n",
       "      <th>4</th>\n",
       "      <td>What kind of throughput and latency improvemen...</td>\n",
       "      <td>Based on the information provided, I do not h...</td>\n",
       "      <td>False</td>\n",
       "      <td>NO\\n\\nThe context does not provide enough det...</td>\n",
       "      <td>0.0</td>\n",
       "      <td>False</td>\n",
       "      <td>NO\\n\\nThe response states that there is insuf...</td>\n",
       "      <td>0.0</td>\n",
       "    </tr>\n",
       "    <tr>\n",
       "      <th>5</th>\n",
       "      <td>What are some of the key benefits of AWS's Inf...</td>\n",
       "      <td>Based on the provided context, some key benef...</td>\n",
       "      <td>True</td>\n",
       "      <td>YES\\n\\nThe context mentions several key benef...</td>\n",
       "      <td>1.0</td>\n",
       "      <td>True</td>\n",
       "      <td>YES\\n\\nThe response provides details that are...</td>\n",
       "      <td>1.0</td>\n",
       "    </tr>\n",
       "    <tr>\n",
       "      <th>6</th>\n",
       "      <td>How has the introduction of Graviton3 chips im...</td>\n",
       "      <td>Unfortunately I do not have enough context to...</td>\n",
       "      <td>False</td>\n",
       "      <td>NO\\n\\nThe context does not mention anything a...</td>\n",
       "      <td>0.0</td>\n",
       "      <td>False</td>\n",
       "      <td>NO\\n\\nThe response clearly states that there ...</td>\n",
       "      <td>0.0</td>\n",
       "    </tr>\n",
       "    <tr>\n",
       "      <th>7</th>\n",
       "      <td>Can you describe the growth of AWS in terms of...</td>\n",
       "      <td>Unfortunately I do not have enough current in...</td>\n",
       "      <td>False</td>\n",
       "      <td>NO\\n\\nThe context does not contain any inform...</td>\n",
       "      <td>0.0</td>\n",
       "      <td>True</td>\n",
       "      <td>Yes\\n\\nThe response indicates that the assist...</td>\n",
       "      <td>1.0</td>\n",
       "    </tr>\n",
       "  </tbody>\n",
       "</table>\n",
       "</div>"
      ],
      "text/plain": [
       "                                               query  \\\n",
       "0  By what percentage did AWS revenue grow year-o...   \n",
       "1  Approximately how many new features and servic...   \n",
       "2  Compared to Graviton2 processors, what perform...   \n",
       "3  Which was the first inference chip launched by...   \n",
       "4  What kind of throughput and latency improvemen...   \n",
       "5  What are some of the key benefits of AWS's Inf...   \n",
       "6  How has the introduction of Graviton3 chips im...   \n",
       "7  Can you describe the growth of AWS in terms of...   \n",
       "\n",
       "                                    generated_answer  faithfulness  \\\n",
       "0   Unfortunately I do not have enough informatio...         False   \n",
       "1   Based on the context provided, I do not have ...         False   \n",
       "2   Unfortunately I do not have enough context to...         False   \n",
       "3   Based on the provided context, the first infe...          True   \n",
       "4   Based on the information provided, I do not h...         False   \n",
       "5   Based on the provided context, some key benef...          True   \n",
       "6   Unfortunately I do not have enough context to...         False   \n",
       "7   Unfortunately I do not have enough current in...         False   \n",
       "\n",
       "                               faithfulness_feedback  faithfulness_score  \\\n",
       "0   NO\\n\\nThe context does not provide enough inf...                 0.0   \n",
       "1                                                 NO                 0.0   \n",
       "2   NO\\n\\nThe provided context does not contain a...                 0.0   \n",
       "3   YES\\n\\nThe context mentions that \"AWS Inferen...                 1.0   \n",
       "4   NO\\n\\nThe context does not provide enough det...                 0.0   \n",
       "5   YES\\n\\nThe context mentions several key benef...                 1.0   \n",
       "6   NO\\n\\nThe context does not mention anything a...                 0.0   \n",
       "7   NO\\n\\nThe context does not contain any inform...                 0.0   \n",
       "\n",
       "   relevancy                                 relevancy_feedback  \\\n",
       "0      False   No, the response is not in line with the cont...   \n",
       "1       True   Based on the context provided, I do not have ...   \n",
       "2      False   NO\\n\\nThe response indicates that there is no...   \n",
       "3       True   YES\\n\\nThe response indicates that AWS Infere...   \n",
       "4      False   NO\\n\\nThe response states that there is insuf...   \n",
       "5       True   YES\\n\\nThe response provides details that are...   \n",
       "6      False   NO\\n\\nThe response clearly states that there ...   \n",
       "7       True   Yes\\n\\nThe response indicates that the assist...   \n",
       "\n",
       "   relevancy_score  \n",
       "0              0.0  \n",
       "1              1.0  \n",
       "2              0.0  \n",
       "3              1.0  \n",
       "4              0.0  \n",
       "5              1.0  \n",
       "6              0.0  \n",
       "7              1.0  "
      ]
     },
     "execution_count": 89,
     "metadata": {},
     "output_type": "execute_result"
    }
   ],
   "source": [
    "evaluation_results_on_instant"
   ]
  },
  {
   "cell_type": "code",
   "execution_count": 90,
   "metadata": {
    "tags": []
   },
   "outputs": [
    {
     "name": "stdout",
     "output_type": "stream",
     "text": [
      "Faithfulness score: 0.25 \n",
      "Relevancey score: 0.5\n"
     ]
    }
   ],
   "source": [
    "print(f'Faithfulness score: {evaluation_results_on_instant.faithfulness.mean()} \\nRelevancey score: {evaluation_results_on_instant.relevancy.mean()}')"
   ]
  }
 ],
 "metadata": {
  "availableInstances": [
   {
    "_defaultOrder": 0,
    "_isFastLaunch": true,
    "category": "General purpose",
    "gpuNum": 0,
    "hideHardwareSpecs": false,
    "memoryGiB": 4,
    "name": "ml.t3.medium",
    "vcpuNum": 2
   },
   {
    "_defaultOrder": 1,
    "_isFastLaunch": false,
    "category": "General purpose",
    "gpuNum": 0,
    "hideHardwareSpecs": false,
    "memoryGiB": 8,
    "name": "ml.t3.large",
    "vcpuNum": 2
   },
   {
    "_defaultOrder": 2,
    "_isFastLaunch": false,
    "category": "General purpose",
    "gpuNum": 0,
    "hideHardwareSpecs": false,
    "memoryGiB": 16,
    "name": "ml.t3.xlarge",
    "vcpuNum": 4
   },
   {
    "_defaultOrder": 3,
    "_isFastLaunch": false,
    "category": "General purpose",
    "gpuNum": 0,
    "hideHardwareSpecs": false,
    "memoryGiB": 32,
    "name": "ml.t3.2xlarge",
    "vcpuNum": 8
   },
   {
    "_defaultOrder": 4,
    "_isFastLaunch": true,
    "category": "General purpose",
    "gpuNum": 0,
    "hideHardwareSpecs": false,
    "memoryGiB": 8,
    "name": "ml.m5.large",
    "vcpuNum": 2
   },
   {
    "_defaultOrder": 5,
    "_isFastLaunch": false,
    "category": "General purpose",
    "gpuNum": 0,
    "hideHardwareSpecs": false,
    "memoryGiB": 16,
    "name": "ml.m5.xlarge",
    "vcpuNum": 4
   },
   {
    "_defaultOrder": 6,
    "_isFastLaunch": false,
    "category": "General purpose",
    "gpuNum": 0,
    "hideHardwareSpecs": false,
    "memoryGiB": 32,
    "name": "ml.m5.2xlarge",
    "vcpuNum": 8
   },
   {
    "_defaultOrder": 7,
    "_isFastLaunch": false,
    "category": "General purpose",
    "gpuNum": 0,
    "hideHardwareSpecs": false,
    "memoryGiB": 64,
    "name": "ml.m5.4xlarge",
    "vcpuNum": 16
   },
   {
    "_defaultOrder": 8,
    "_isFastLaunch": false,
    "category": "General purpose",
    "gpuNum": 0,
    "hideHardwareSpecs": false,
    "memoryGiB": 128,
    "name": "ml.m5.8xlarge",
    "vcpuNum": 32
   },
   {
    "_defaultOrder": 9,
    "_isFastLaunch": false,
    "category": "General purpose",
    "gpuNum": 0,
    "hideHardwareSpecs": false,
    "memoryGiB": 192,
    "name": "ml.m5.12xlarge",
    "vcpuNum": 48
   },
   {
    "_defaultOrder": 10,
    "_isFastLaunch": false,
    "category": "General purpose",
    "gpuNum": 0,
    "hideHardwareSpecs": false,
    "memoryGiB": 256,
    "name": "ml.m5.16xlarge",
    "vcpuNum": 64
   },
   {
    "_defaultOrder": 11,
    "_isFastLaunch": false,
    "category": "General purpose",
    "gpuNum": 0,
    "hideHardwareSpecs": false,
    "memoryGiB": 384,
    "name": "ml.m5.24xlarge",
    "vcpuNum": 96
   },
   {
    "_defaultOrder": 12,
    "_isFastLaunch": false,
    "category": "General purpose",
    "gpuNum": 0,
    "hideHardwareSpecs": false,
    "memoryGiB": 8,
    "name": "ml.m5d.large",
    "vcpuNum": 2
   },
   {
    "_defaultOrder": 13,
    "_isFastLaunch": false,
    "category": "General purpose",
    "gpuNum": 0,
    "hideHardwareSpecs": false,
    "memoryGiB": 16,
    "name": "ml.m5d.xlarge",
    "vcpuNum": 4
   },
   {
    "_defaultOrder": 14,
    "_isFastLaunch": false,
    "category": "General purpose",
    "gpuNum": 0,
    "hideHardwareSpecs": false,
    "memoryGiB": 32,
    "name": "ml.m5d.2xlarge",
    "vcpuNum": 8
   },
   {
    "_defaultOrder": 15,
    "_isFastLaunch": false,
    "category": "General purpose",
    "gpuNum": 0,
    "hideHardwareSpecs": false,
    "memoryGiB": 64,
    "name": "ml.m5d.4xlarge",
    "vcpuNum": 16
   },
   {
    "_defaultOrder": 16,
    "_isFastLaunch": false,
    "category": "General purpose",
    "gpuNum": 0,
    "hideHardwareSpecs": false,
    "memoryGiB": 128,
    "name": "ml.m5d.8xlarge",
    "vcpuNum": 32
   },
   {
    "_defaultOrder": 17,
    "_isFastLaunch": false,
    "category": "General purpose",
    "gpuNum": 0,
    "hideHardwareSpecs": false,
    "memoryGiB": 192,
    "name": "ml.m5d.12xlarge",
    "vcpuNum": 48
   },
   {
    "_defaultOrder": 18,
    "_isFastLaunch": false,
    "category": "General purpose",
    "gpuNum": 0,
    "hideHardwareSpecs": false,
    "memoryGiB": 256,
    "name": "ml.m5d.16xlarge",
    "vcpuNum": 64
   },
   {
    "_defaultOrder": 19,
    "_isFastLaunch": false,
    "category": "General purpose",
    "gpuNum": 0,
    "hideHardwareSpecs": false,
    "memoryGiB": 384,
    "name": "ml.m5d.24xlarge",
    "vcpuNum": 96
   },
   {
    "_defaultOrder": 20,
    "_isFastLaunch": false,
    "category": "General purpose",
    "gpuNum": 0,
    "hideHardwareSpecs": true,
    "memoryGiB": 0,
    "name": "ml.geospatial.interactive",
    "supportedImageNames": [
     "sagemaker-geospatial-v1-0"
    ],
    "vcpuNum": 0
   },
   {
    "_defaultOrder": 21,
    "_isFastLaunch": true,
    "category": "Compute optimized",
    "gpuNum": 0,
    "hideHardwareSpecs": false,
    "memoryGiB": 4,
    "name": "ml.c5.large",
    "vcpuNum": 2
   },
   {
    "_defaultOrder": 22,
    "_isFastLaunch": false,
    "category": "Compute optimized",
    "gpuNum": 0,
    "hideHardwareSpecs": false,
    "memoryGiB": 8,
    "name": "ml.c5.xlarge",
    "vcpuNum": 4
   },
   {
    "_defaultOrder": 23,
    "_isFastLaunch": false,
    "category": "Compute optimized",
    "gpuNum": 0,
    "hideHardwareSpecs": false,
    "memoryGiB": 16,
    "name": "ml.c5.2xlarge",
    "vcpuNum": 8
   },
   {
    "_defaultOrder": 24,
    "_isFastLaunch": false,
    "category": "Compute optimized",
    "gpuNum": 0,
    "hideHardwareSpecs": false,
    "memoryGiB": 32,
    "name": "ml.c5.4xlarge",
    "vcpuNum": 16
   },
   {
    "_defaultOrder": 25,
    "_isFastLaunch": false,
    "category": "Compute optimized",
    "gpuNum": 0,
    "hideHardwareSpecs": false,
    "memoryGiB": 72,
    "name": "ml.c5.9xlarge",
    "vcpuNum": 36
   },
   {
    "_defaultOrder": 26,
    "_isFastLaunch": false,
    "category": "Compute optimized",
    "gpuNum": 0,
    "hideHardwareSpecs": false,
    "memoryGiB": 96,
    "name": "ml.c5.12xlarge",
    "vcpuNum": 48
   },
   {
    "_defaultOrder": 27,
    "_isFastLaunch": false,
    "category": "Compute optimized",
    "gpuNum": 0,
    "hideHardwareSpecs": false,
    "memoryGiB": 144,
    "name": "ml.c5.18xlarge",
    "vcpuNum": 72
   },
   {
    "_defaultOrder": 28,
    "_isFastLaunch": false,
    "category": "Compute optimized",
    "gpuNum": 0,
    "hideHardwareSpecs": false,
    "memoryGiB": 192,
    "name": "ml.c5.24xlarge",
    "vcpuNum": 96
   },
   {
    "_defaultOrder": 29,
    "_isFastLaunch": true,
    "category": "Accelerated computing",
    "gpuNum": 1,
    "hideHardwareSpecs": false,
    "memoryGiB": 16,
    "name": "ml.g4dn.xlarge",
    "vcpuNum": 4
   },
   {
    "_defaultOrder": 30,
    "_isFastLaunch": false,
    "category": "Accelerated computing",
    "gpuNum": 1,
    "hideHardwareSpecs": false,
    "memoryGiB": 32,
    "name": "ml.g4dn.2xlarge",
    "vcpuNum": 8
   },
   {
    "_defaultOrder": 31,
    "_isFastLaunch": false,
    "category": "Accelerated computing",
    "gpuNum": 1,
    "hideHardwareSpecs": false,
    "memoryGiB": 64,
    "name": "ml.g4dn.4xlarge",
    "vcpuNum": 16
   },
   {
    "_defaultOrder": 32,
    "_isFastLaunch": false,
    "category": "Accelerated computing",
    "gpuNum": 1,
    "hideHardwareSpecs": false,
    "memoryGiB": 128,
    "name": "ml.g4dn.8xlarge",
    "vcpuNum": 32
   },
   {
    "_defaultOrder": 33,
    "_isFastLaunch": false,
    "category": "Accelerated computing",
    "gpuNum": 4,
    "hideHardwareSpecs": false,
    "memoryGiB": 192,
    "name": "ml.g4dn.12xlarge",
    "vcpuNum": 48
   },
   {
    "_defaultOrder": 34,
    "_isFastLaunch": false,
    "category": "Accelerated computing",
    "gpuNum": 1,
    "hideHardwareSpecs": false,
    "memoryGiB": 256,
    "name": "ml.g4dn.16xlarge",
    "vcpuNum": 64
   },
   {
    "_defaultOrder": 35,
    "_isFastLaunch": false,
    "category": "Accelerated computing",
    "gpuNum": 1,
    "hideHardwareSpecs": false,
    "memoryGiB": 61,
    "name": "ml.p3.2xlarge",
    "vcpuNum": 8
   },
   {
    "_defaultOrder": 36,
    "_isFastLaunch": false,
    "category": "Accelerated computing",
    "gpuNum": 4,
    "hideHardwareSpecs": false,
    "memoryGiB": 244,
    "name": "ml.p3.8xlarge",
    "vcpuNum": 32
   },
   {
    "_defaultOrder": 37,
    "_isFastLaunch": false,
    "category": "Accelerated computing",
    "gpuNum": 8,
    "hideHardwareSpecs": false,
    "memoryGiB": 488,
    "name": "ml.p3.16xlarge",
    "vcpuNum": 64
   },
   {
    "_defaultOrder": 38,
    "_isFastLaunch": false,
    "category": "Accelerated computing",
    "gpuNum": 8,
    "hideHardwareSpecs": false,
    "memoryGiB": 768,
    "name": "ml.p3dn.24xlarge",
    "vcpuNum": 96
   },
   {
    "_defaultOrder": 39,
    "_isFastLaunch": false,
    "category": "Memory Optimized",
    "gpuNum": 0,
    "hideHardwareSpecs": false,
    "memoryGiB": 16,
    "name": "ml.r5.large",
    "vcpuNum": 2
   },
   {
    "_defaultOrder": 40,
    "_isFastLaunch": false,
    "category": "Memory Optimized",
    "gpuNum": 0,
    "hideHardwareSpecs": false,
    "memoryGiB": 32,
    "name": "ml.r5.xlarge",
    "vcpuNum": 4
   },
   {
    "_defaultOrder": 41,
    "_isFastLaunch": false,
    "category": "Memory Optimized",
    "gpuNum": 0,
    "hideHardwareSpecs": false,
    "memoryGiB": 64,
    "name": "ml.r5.2xlarge",
    "vcpuNum": 8
   },
   {
    "_defaultOrder": 42,
    "_isFastLaunch": false,
    "category": "Memory Optimized",
    "gpuNum": 0,
    "hideHardwareSpecs": false,
    "memoryGiB": 128,
    "name": "ml.r5.4xlarge",
    "vcpuNum": 16
   },
   {
    "_defaultOrder": 43,
    "_isFastLaunch": false,
    "category": "Memory Optimized",
    "gpuNum": 0,
    "hideHardwareSpecs": false,
    "memoryGiB": 256,
    "name": "ml.r5.8xlarge",
    "vcpuNum": 32
   },
   {
    "_defaultOrder": 44,
    "_isFastLaunch": false,
    "category": "Memory Optimized",
    "gpuNum": 0,
    "hideHardwareSpecs": false,
    "memoryGiB": 384,
    "name": "ml.r5.12xlarge",
    "vcpuNum": 48
   },
   {
    "_defaultOrder": 45,
    "_isFastLaunch": false,
    "category": "Memory Optimized",
    "gpuNum": 0,
    "hideHardwareSpecs": false,
    "memoryGiB": 512,
    "name": "ml.r5.16xlarge",
    "vcpuNum": 64
   },
   {
    "_defaultOrder": 46,
    "_isFastLaunch": false,
    "category": "Memory Optimized",
    "gpuNum": 0,
    "hideHardwareSpecs": false,
    "memoryGiB": 768,
    "name": "ml.r5.24xlarge",
    "vcpuNum": 96
   },
   {
    "_defaultOrder": 47,
    "_isFastLaunch": false,
    "category": "Accelerated computing",
    "gpuNum": 1,
    "hideHardwareSpecs": false,
    "memoryGiB": 16,
    "name": "ml.g5.xlarge",
    "vcpuNum": 4
   },
   {
    "_defaultOrder": 48,
    "_isFastLaunch": false,
    "category": "Accelerated computing",
    "gpuNum": 1,
    "hideHardwareSpecs": false,
    "memoryGiB": 32,
    "name": "ml.g5.2xlarge",
    "vcpuNum": 8
   },
   {
    "_defaultOrder": 49,
    "_isFastLaunch": false,
    "category": "Accelerated computing",
    "gpuNum": 1,
    "hideHardwareSpecs": false,
    "memoryGiB": 64,
    "name": "ml.g5.4xlarge",
    "vcpuNum": 16
   },
   {
    "_defaultOrder": 50,
    "_isFastLaunch": false,
    "category": "Accelerated computing",
    "gpuNum": 1,
    "hideHardwareSpecs": false,
    "memoryGiB": 128,
    "name": "ml.g5.8xlarge",
    "vcpuNum": 32
   },
   {
    "_defaultOrder": 51,
    "_isFastLaunch": false,
    "category": "Accelerated computing",
    "gpuNum": 1,
    "hideHardwareSpecs": false,
    "memoryGiB": 256,
    "name": "ml.g5.16xlarge",
    "vcpuNum": 64
   },
   {
    "_defaultOrder": 52,
    "_isFastLaunch": false,
    "category": "Accelerated computing",
    "gpuNum": 4,
    "hideHardwareSpecs": false,
    "memoryGiB": 192,
    "name": "ml.g5.12xlarge",
    "vcpuNum": 48
   },
   {
    "_defaultOrder": 53,
    "_isFastLaunch": false,
    "category": "Accelerated computing",
    "gpuNum": 4,
    "hideHardwareSpecs": false,
    "memoryGiB": 384,
    "name": "ml.g5.24xlarge",
    "vcpuNum": 96
   },
   {
    "_defaultOrder": 54,
    "_isFastLaunch": false,
    "category": "Accelerated computing",
    "gpuNum": 8,
    "hideHardwareSpecs": false,
    "memoryGiB": 768,
    "name": "ml.g5.48xlarge",
    "vcpuNum": 192
   },
   {
    "_defaultOrder": 55,
    "_isFastLaunch": false,
    "category": "Accelerated computing",
    "gpuNum": 8,
    "hideHardwareSpecs": false,
    "memoryGiB": 1152,
    "name": "ml.p4d.24xlarge",
    "vcpuNum": 96
   },
   {
    "_defaultOrder": 56,
    "_isFastLaunch": false,
    "category": "Accelerated computing",
    "gpuNum": 8,
    "hideHardwareSpecs": false,
    "memoryGiB": 1152,
    "name": "ml.p4de.24xlarge",
    "vcpuNum": 96
   },
   {
    "_defaultOrder": 57,
    "_isFastLaunch": false,
    "category": "Accelerated computing",
    "gpuNum": 0,
    "hideHardwareSpecs": false,
    "memoryGiB": 32,
    "name": "ml.trn1.2xlarge",
    "vcpuNum": 8
   },
   {
    "_defaultOrder": 58,
    "_isFastLaunch": false,
    "category": "Accelerated computing",
    "gpuNum": 0,
    "hideHardwareSpecs": false,
    "memoryGiB": 512,
    "name": "ml.trn1.32xlarge",
    "vcpuNum": 128
   },
   {
    "_defaultOrder": 59,
    "_isFastLaunch": false,
    "category": "Accelerated computing",
    "gpuNum": 0,
    "hideHardwareSpecs": false,
    "memoryGiB": 512,
    "name": "ml.trn1n.32xlarge",
    "vcpuNum": 128
   }
  ],
  "instance_type": "ml.t3.medium",
  "kernelspec": {
   "display_name": "Python 3 (Data Science 3.0)",
   "language": "python",
   "name": "python3__SAGEMAKER_INTERNAL__arn:aws:sagemaker:us-east-1:081325390199:image/sagemaker-data-science-310-v1"
  },
  "language_info": {
   "codemirror_mode": {
    "name": "ipython",
    "version": 3
   },
   "file_extension": ".py",
   "mimetype": "text/x-python",
   "name": "python",
   "nbconvert_exporter": "python",
   "pygments_lexer": "ipython3",
   "version": "3.10.6"
  }
 },
 "nbformat": 4,
 "nbformat_minor": 4
}
